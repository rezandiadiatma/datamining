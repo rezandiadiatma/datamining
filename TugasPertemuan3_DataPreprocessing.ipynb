{
  "nbformat": 4,
  "nbformat_minor": 0,
  "metadata": {
    "colab": {
      "name": "TugasPertemuan3-DataPreprocessing.ipynb",
      "provenance": [],
      "authorship_tag": "ABX9TyM3nqCyDbz+YexyMgc7EY1a",
      "include_colab_link": true
    },
    "kernelspec": {
      "name": "python3",
      "display_name": "Python 3"
    }
  },
  "cells": [
    {
      "cell_type": "markdown",
      "metadata": {
        "id": "view-in-github",
        "colab_type": "text"
      },
      "source": [
        "<a href=\"https://colab.research.google.com/github/rezandiadiatma/datamining/blob/main/TugasPertemuan3_DataPreprocessing.ipynb\" target=\"_parent\"><img src=\"https://colab.research.google.com/assets/colab-badge.svg\" alt=\"Open In Colab\"/></a>"
      ]
    },
    {
      "cell_type": "code",
      "metadata": {
        "id": "eW08Ckgnuq-C"
      },
      "source": [
        "import numpy as np\r\n",
        "import matplotlib.pyplot as plt\r\n",
        "import pandas as pd"
      ],
      "execution_count": 1,
      "outputs": []
    },
    {
      "cell_type": "code",
      "metadata": {
        "id": "uzoHwAWMvQig"
      },
      "source": [
        "dataset = pd.read_csv('DataTugas.csv')\r\n",
        "x = dataset.iloc[:, :-1].values\r\n",
        "y = dataset.iloc[:, -1].values"
      ],
      "execution_count": 2,
      "outputs": []
    },
    {
      "cell_type": "code",
      "metadata": {
        "colab": {
          "base_uri": "https://localhost:8080/"
        },
        "id": "9WZGbbuHvSfi",
        "outputId": "f6e4fec6-5569-4d7c-acf3-7a310debc4c5"
      },
      "source": [
        "print(x)"
      ],
      "execution_count": 3,
      "outputs": [
        {
          "output_type": "stream",
          "text": [
            "[['Avanza' 2015.0 158000.0]\n",
            " ['Xenia' 2020.0 174000.0]\n",
            " ['Avanza' 2010.0 146000.0]\n",
            " ['Xenia' 2016.0 nan]\n",
            " ['Brio' 2015.0 140000.0]\n",
            " ['Brio' nan 155000.0]\n",
            " ['Avanza' 2020.0 180000.0]\n",
            " ['Brio' 2019.0 168000.0]\n",
            " ['Avanza' 2016.0 170000.0]\n",
            " ['Xenia' 2013.0 147000.0]]\n"
          ],
          "name": "stdout"
        }
      ]
    },
    {
      "cell_type": "code",
      "metadata": {
        "colab": {
          "base_uri": "https://localhost:8080/"
        },
        "id": "ZgrMh_JZvTxB",
        "outputId": "b1813860-a253-49ca-d004-30945e4d62af"
      },
      "source": [
        "print(y)"
      ],
      "execution_count": 4,
      "outputs": [
        {
          "output_type": "stream",
          "text": [
            "['Kosong' 'Kosong' 'Tersedia' 'Kosong' 'Tersedia' 'Kosong' 'Kosong'\n",
            " 'Tersedia' 'Kosong' 'Tersedia']\n"
          ],
          "name": "stdout"
        }
      ]
    },
    {
      "cell_type": "code",
      "metadata": {
        "id": "Gfk06RhrvWYr"
      },
      "source": [
        "from sklearn.impute import SimpleImputer\r\n",
        "imputer = SimpleImputer(missing_values=np.nan, strategy='mean')\r\n",
        "imputer.fit(x[:, 1:3])\r\n",
        "x[:, 1:3] = imputer.transform(x[:, 1:3])"
      ],
      "execution_count": 5,
      "outputs": []
    },
    {
      "cell_type": "code",
      "metadata": {
        "colab": {
          "base_uri": "https://localhost:8080/"
        },
        "id": "Pjci2JRhvYdZ",
        "outputId": "efa3298c-37a8-4a44-fc71-13a14eeb46b9"
      },
      "source": [
        "print(x)"
      ],
      "execution_count": 6,
      "outputs": [
        {
          "output_type": "stream",
          "text": [
            "[['Avanza' 2015.0 158000.0]\n",
            " ['Xenia' 2020.0 174000.0]\n",
            " ['Avanza' 2010.0 146000.0]\n",
            " ['Xenia' 2016.0 159777.77777777778]\n",
            " ['Brio' 2015.0 140000.0]\n",
            " ['Brio' 2016.0 155000.0]\n",
            " ['Avanza' 2020.0 180000.0]\n",
            " ['Brio' 2019.0 168000.0]\n",
            " ['Avanza' 2016.0 170000.0]\n",
            " ['Xenia' 2013.0 147000.0]]\n"
          ],
          "name": "stdout"
        }
      ]
    },
    {
      "cell_type": "code",
      "metadata": {
        "id": "7sDFNYqovduB"
      },
      "source": [
        "from sklearn.compose import ColumnTransformer\r\n",
        "from sklearn.preprocessing import OneHotEncoder\r\n",
        "ct = ColumnTransformer(transformers=[('encode', OneHotEncoder(), [0])], remainder='passthrough')\r\n",
        "x = np.array(ct.fit_transform(x))"
      ],
      "execution_count": 7,
      "outputs": []
    },
    {
      "cell_type": "code",
      "metadata": {
        "colab": {
          "base_uri": "https://localhost:8080/"
        },
        "id": "iacNP0msvjO9",
        "outputId": "56377bbf-b41a-478b-bb18-cfea084f703a"
      },
      "source": [
        "print(x)"
      ],
      "execution_count": 8,
      "outputs": [
        {
          "output_type": "stream",
          "text": [
            "[[1.0 0.0 0.0 2015.0 158000.0]\n",
            " [0.0 0.0 1.0 2020.0 174000.0]\n",
            " [1.0 0.0 0.0 2010.0 146000.0]\n",
            " [0.0 0.0 1.0 2016.0 159777.77777777778]\n",
            " [0.0 1.0 0.0 2015.0 140000.0]\n",
            " [0.0 1.0 0.0 2016.0 155000.0]\n",
            " [1.0 0.0 0.0 2020.0 180000.0]\n",
            " [0.0 1.0 0.0 2019.0 168000.0]\n",
            " [1.0 0.0 0.0 2016.0 170000.0]\n",
            " [0.0 0.0 1.0 2013.0 147000.0]]\n"
          ],
          "name": "stdout"
        }
      ]
    },
    {
      "cell_type": "code",
      "metadata": {
        "id": "L1DLNU-gvlCc"
      },
      "source": [
        "from sklearn.preprocessing import LabelEncoder\r\n",
        "le = LabelEncoder()\r\n",
        "y = le.fit_transform(y)"
      ],
      "execution_count": 9,
      "outputs": []
    },
    {
      "cell_type": "code",
      "metadata": {
        "colab": {
          "base_uri": "https://localhost:8080/"
        },
        "id": "HDwh_ydwvnaP",
        "outputId": "3a3fde08-6fe0-4c86-c4b9-973d67868ab9"
      },
      "source": [
        "print(y)"
      ],
      "execution_count": 10,
      "outputs": [
        {
          "output_type": "stream",
          "text": [
            "[0 0 1 0 1 0 0 1 0 1]\n"
          ],
          "name": "stdout"
        }
      ]
    },
    {
      "cell_type": "code",
      "metadata": {
        "id": "zDlDnfRnvoou"
      },
      "source": [
        "from sklearn.model_selection import train_test_split\r\n",
        "x_train, x_test, y_train, y_test = train_test_split(x,y, test_size=0.2, random_state=1)"
      ],
      "execution_count": 11,
      "outputs": []
    },
    {
      "cell_type": "code",
      "metadata": {
        "colab": {
          "base_uri": "https://localhost:8080/"
        },
        "id": "QNUNIMxgvrsI",
        "outputId": "b1719330-2ca2-45dc-9d3c-3387a6c939f3"
      },
      "source": [
        "print(x_train)"
      ],
      "execution_count": 12,
      "outputs": [
        {
          "output_type": "stream",
          "text": [
            "[[1.0 0.0 0.0 2020.0 180000.0]\n",
            " [0.0 1.0 0.0 2015.0 140000.0]\n",
            " [1.0 0.0 0.0 2015.0 158000.0]\n",
            " [0.0 0.0 1.0 2016.0 159777.77777777778]\n",
            " [0.0 0.0 1.0 2020.0 174000.0]\n",
            " [0.0 1.0 0.0 2019.0 168000.0]\n",
            " [1.0 0.0 0.0 2016.0 170000.0]\n",
            " [0.0 1.0 0.0 2016.0 155000.0]]\n"
          ],
          "name": "stdout"
        }
      ]
    },
    {
      "cell_type": "code",
      "metadata": {
        "colab": {
          "base_uri": "https://localhost:8080/"
        },
        "id": "4WS0U_8dvtXW",
        "outputId": "a38dd0a2-90a1-40cc-845a-c2d7a0a48342"
      },
      "source": [
        "print(x_test)"
      ],
      "execution_count": 13,
      "outputs": [
        {
          "output_type": "stream",
          "text": [
            "[[1.0 0.0 0.0 2010.0 146000.0]\n",
            " [0.0 0.0 1.0 2013.0 147000.0]]\n"
          ],
          "name": "stdout"
        }
      ]
    },
    {
      "cell_type": "code",
      "metadata": {
        "colab": {
          "base_uri": "https://localhost:8080/"
        },
        "id": "ZFp-fuxZvu1v",
        "outputId": "534ac3b8-449c-45f3-dd0f-c30cede4c0cf"
      },
      "source": [
        "print(y_train)"
      ],
      "execution_count": 14,
      "outputs": [
        {
          "output_type": "stream",
          "text": [
            "[0 1 0 0 0 1 0 0]\n"
          ],
          "name": "stdout"
        }
      ]
    },
    {
      "cell_type": "code",
      "metadata": {
        "colab": {
          "base_uri": "https://localhost:8080/"
        },
        "id": "HCuMPTylvwv8",
        "outputId": "c0de2e59-3657-4492-f51e-012d9e412f27"
      },
      "source": [
        "print(y_test)"
      ],
      "execution_count": 15,
      "outputs": [
        {
          "output_type": "stream",
          "text": [
            "[1 1]\n"
          ],
          "name": "stdout"
        }
      ]
    },
    {
      "cell_type": "code",
      "metadata": {
        "id": "Mxft6Kk8vx-T"
      },
      "source": [
        "from sklearn.preprocessing import StandardScaler\r\n",
        "sc = StandardScaler()\r\n",
        "x_train[:, 3:] = sc.fit_transform(x_train[:, 3:])\r\n",
        "x_test[:, 3:] = sc.transform(x_test[:, 3:])"
      ],
      "execution_count": 16,
      "outputs": []
    },
    {
      "cell_type": "code",
      "metadata": {
        "colab": {
          "base_uri": "https://localhost:8080/"
        },
        "id": "0WDoCVtdvzjY",
        "outputId": "da75c97a-f664-482f-eb65-1e1af78b64ad"
      },
      "source": [
        "print(x_train)"
      ],
      "execution_count": 17,
      "outputs": [
        {
          "output_type": "stream",
          "text": [
            "[[1.0 0.0 0.0 1.418240756749877 1.4334769726577727]\n",
            " [0.0 1.0 0.0 -1.0482649071629526 -1.9588103578717133]\n",
            " [1.0 0.0 0.0 -1.0482649071629526 -0.43228105913344467]\n",
            " [0.0 0.0 1.0 -0.5549637743803867 -0.2815127333321339]\n",
            " [0.0 0.0 1.0 1.418240756749877 0.9246338730783498]\n",
            " [0.0 1.0 0.0 0.9249396239673111 0.41579077349892685]\n",
            " [1.0 0.0 0.0 -0.5549637743803867 0.5854051400254012]\n",
            " [0.0 1.0 0.0 -0.5549637743803867 -0.6867026089231562]]\n"
          ],
          "name": "stdout"
        }
      ]
    },
    {
      "cell_type": "code",
      "metadata": {
        "colab": {
          "base_uri": "https://localhost:8080/"
        },
        "id": "rtHTiUntv1IJ",
        "outputId": "f713f7cd-8ddb-4350-cb1c-eb41df7d8a3f"
      },
      "source": [
        "print(x_test)"
      ],
      "execution_count": 18,
      "outputs": [
        {
          "output_type": "stream",
          "text": [
            "[[1.0 0.0 0.0 -3.514770571075782 -1.4499672582922905]\n",
            " [0.0 0.0 1.0 -2.0348671727280845 -1.3651600750290533]]\n"
          ],
          "name": "stdout"
        }
      ]
    },
    {
      "cell_type": "code",
      "metadata": {
        "id": "KsWRxCh8v21P"
      },
      "source": [
        ""
      ],
      "execution_count": null,
      "outputs": []
    }
  ]
}